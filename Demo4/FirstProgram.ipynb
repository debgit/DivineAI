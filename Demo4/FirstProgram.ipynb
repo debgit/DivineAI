{
  "cells": [
    {
      "cell_type": "markdown",
      "metadata": {
        "id": "view-in-github",
        "colab_type": "text"
      },
      "source": [
        "<a href=\"https://colab.research.google.com/github/debgit/DivineAI/blob/main/Demo4/FirstProgram.ipynb\" target=\"_parent\"><img src=\"https://colab.research.google.com/assets/colab-badge.svg\" alt=\"Open In Colab\"/></a>"
      ]
    },
    {
      "cell_type": "code",
      "execution_count": null,
      "id": "f3997da8",
      "metadata": {
        "id": "f3997da8",
        "outputId": "d764a752-3458-41a8-a479-e685b4b5c3be"
      },
      "outputs": [
        {
          "name": "stdout",
          "output_type": "stream",
          "text": [
            "C:\\Users\\desatapa\\Desktop\\Training\\MLDec\n"
          ]
        }
      ],
      "source": [
        "import os\n",
        "print(os.getcwd())"
      ]
    },
    {
      "cell_type": "code",
      "execution_count": null,
      "id": "1db37b4b",
      "metadata": {
        "id": "1db37b4b"
      },
      "outputs": [],
      "source": [
        "print(\"Good morning\")"
      ]
    },
    {
      "cell_type": "markdown",
      "id": "655f723a",
      "metadata": {
        "id": "655f723a"
      },
      "source": [
        "# This is the First Program "
      ]
    },
    {
      "cell_type": "code",
      "execution_count": null,
      "id": "0ad0355b",
      "metadata": {
        "id": "0ad0355b",
        "outputId": "33c0f385-f9d0-4cbe-ffc9-6740bff92b7b"
      },
      "outputs": [
        {
          "data": {
            "text/plain": [
              "2"
            ]
          },
          "execution_count": 3,
          "metadata": {},
          "output_type": "execute_result"
        }
      ],
      "source": [
        "1+1"
      ]
    },
    {
      "cell_type": "code",
      "execution_count": null,
      "id": "339d57b7",
      "metadata": {
        "colab": {
          "base_uri": "https://localhost:8080/"
        },
        "id": "339d57b7",
        "outputId": "f9b4f912-28d3-4b1c-862a-df68d27ae7e9"
      },
      "outputs": [
        {
          "output_type": "stream",
          "name": "stdout",
          "text": [
            "Hello, How are you?\n"
          ]
        }
      ],
      "source": [
        "print('Hello, How are you?')"
      ]
    },
    {
      "cell_type": "code",
      "source": [
        ""
      ],
      "metadata": {
        "id": "Z1iNAEosvvIT"
      },
      "id": "Z1iNAEosvvIT",
      "execution_count": null,
      "outputs": []
    }
  ],
  "metadata": {
    "kernelspec": {
      "display_name": "Python 3 (ipykernel)",
      "language": "python",
      "name": "python3"
    },
    "language_info": {
      "codemirror_mode": {
        "name": "ipython",
        "version": 3
      },
      "file_extension": ".py",
      "mimetype": "text/x-python",
      "name": "python",
      "nbconvert_exporter": "python",
      "pygments_lexer": "ipython3",
      "version": "3.8.12"
    },
    "colab": {
      "name": "FirstProgram.ipynb",
      "provenance": [],
      "collapsed_sections": [],
      "include_colab_link": true
    },
    "accelerator": "TPU"
  },
  "nbformat": 4,
  "nbformat_minor": 5
}