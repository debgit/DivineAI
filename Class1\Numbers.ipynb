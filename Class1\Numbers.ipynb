{
  "nbformat": 4,
  "nbformat_minor": 0,
  "metadata": {
    "anaconda-cloud": {},
    "kernelspec": {
      "display_name": "Python 3",
      "language": "python",
      "name": "python3"
    },
    "language_info": {
      "codemirror_mode": {
        "name": "ipython",
        "version": 3
      },
      "file_extension": ".py",
      "mimetype": "text/x-python",
      "name": "python",
      "nbconvert_exporter": "python",
      "pygments_lexer": "ipython3",
      "version": "3.7.10"
    },
    "colab": {
      "name": "Numbers.ipynb",
      "provenance": [],
      "collapsed_sections": [],
      "include_colab_link": true
    },
    "accelerator": "TPU"
  },
  "cells": [
    {
      "cell_type": "markdown",
      "metadata": {
        "id": "view-in-github",
        "colab_type": "text"
      },
      "source": [
        "<a href=\"https://colab.research.google.com/github/debgit/DivineAI/blob/main/Class1%5CNumbers.ipynb\" target=\"_parent\"><img src=\"https://colab.research.google.com/assets/colab-badge.svg\" alt=\"Open In Colab\"/></a>"
      ]
    },
    {
      "cell_type": "markdown",
      "metadata": {
        "id": "pi6kd3x9GqVl"
      },
      "source": [
        "### Basic Arithmetic"
      ]
    },
    {
      "cell_type": "code",
      "metadata": {
        "colab": {
          "base_uri": "https://localhost:8080/"
        },
        "id": "y4zd82OUGqVr",
        "outputId": "5e7f2cba-90d8-4249-eec6-1808677dc10b"
      },
      "source": [
        "# Addition\n",
        "2+1"
      ],
      "execution_count": 2,
      "outputs": [
        {
          "output_type": "execute_result",
          "data": {
            "text/plain": [
              "3"
            ]
          },
          "metadata": {},
          "execution_count": 2
        }
      ]
    },
    {
      "cell_type": "code",
      "metadata": {
        "colab": {
          "base_uri": "https://localhost:8080/"
        },
        "id": "6V4iK1QjHg1A",
        "outputId": "7cdb2363-3ccf-46f9-e528-06e65c387447"
      },
      "source": [
        "5+7"
      ],
      "execution_count": 4,
      "outputs": [
        {
          "output_type": "execute_result",
          "data": {
            "text/plain": [
              "12"
            ]
          },
          "metadata": {},
          "execution_count": 4
        }
      ]
    },
    {
      "cell_type": "code",
      "metadata": {
        "colab": {
          "base_uri": "https://localhost:8080/"
        },
        "id": "yj5yeWR5GqVu",
        "outputId": "475ed332-ff8c-48b4-9e80-7e0ae1d8283f"
      },
      "source": [
        "# Subtraction\n",
        "2-1"
      ],
      "execution_count": 3,
      "outputs": [
        {
          "output_type": "execute_result",
          "data": {
            "text/plain": [
              "1"
            ]
          },
          "metadata": {},
          "execution_count": 3
        }
      ]
    },
    {
      "cell_type": "code",
      "metadata": {
        "id": "axhl1210GqVw",
        "outputId": "4635887d-0adc-49db-8029-dabcff0edc0d"
      },
      "source": [
        "# Multiplication\n",
        "2*2"
      ],
      "execution_count": null,
      "outputs": [
        {
          "data": {
            "text/plain": [
              "4"
            ]
          },
          "execution_count": 3,
          "metadata": {},
          "output_type": "execute_result"
        }
      ]
    },
    {
      "cell_type": "code",
      "metadata": {
        "id": "2IijjR6uGqVw",
        "outputId": "a65155c2-a6f5-40f3-a86e-1dc54a165714"
      },
      "source": [
        "# Division\n",
        "3/2"
      ],
      "execution_count": null,
      "outputs": [
        {
          "data": {
            "text/plain": [
              "1.5"
            ]
          },
          "execution_count": 4,
          "metadata": {},
          "output_type": "execute_result"
        }
      ]
    },
    {
      "cell_type": "code",
      "metadata": {
        "id": "jUQ1j5yPGqVx",
        "outputId": "f78a583a-5ace-4624-f17f-9b2d6bf482c0"
      },
      "source": [
        "# Floor Division\n",
        "7//4"
      ],
      "execution_count": null,
      "outputs": [
        {
          "data": {
            "text/plain": [
              "1"
            ]
          },
          "execution_count": 5,
          "metadata": {},
          "output_type": "execute_result"
        }
      ]
    },
    {
      "cell_type": "code",
      "metadata": {
        "id": "1qQvXHu1GqVx",
        "outputId": "bc11c131-92fb-4739-891f-dd41767b3dd4"
      },
      "source": [
        "# Modulo\n",
        "7%4"
      ],
      "execution_count": null,
      "outputs": [
        {
          "data": {
            "text/plain": [
              "3"
            ]
          },
          "execution_count": 6,
          "metadata": {},
          "output_type": "execute_result"
        }
      ]
    },
    {
      "cell_type": "markdown",
      "metadata": {
        "id": "kXzJfyhaGqVy"
      },
      "source": [
        "### Arithmetic continued"
      ]
    },
    {
      "cell_type": "code",
      "metadata": {
        "id": "EgXh7E8cGqVz",
        "outputId": "baddae82-6b05-430d-c118-cb8cca600408"
      },
      "source": [
        "# Powers\n",
        "2**3"
      ],
      "execution_count": null,
      "outputs": [
        {
          "data": {
            "text/plain": [
              "8"
            ]
          },
          "execution_count": 7,
          "metadata": {},
          "output_type": "execute_result"
        }
      ]
    },
    {
      "cell_type": "code",
      "metadata": {
        "id": "RjX38FUmGqVz",
        "outputId": "e00154d9-5b94-4cb2-840f-27b23be7c167"
      },
      "source": [
        "# Can also do roots this way\n",
        "4**0.5"
      ],
      "execution_count": null,
      "outputs": [
        {
          "data": {
            "text/plain": [
              "2.0"
            ]
          },
          "execution_count": 8,
          "metadata": {},
          "output_type": "execute_result"
        }
      ]
    },
    {
      "cell_type": "code",
      "metadata": {
        "id": "GZZnQRzBGqV0",
        "outputId": "edd3cf58-46cd-4e87-b3c7-5a093f958f08"
      },
      "source": [
        "# Order of Operations followed in Python\n",
        "2 + 10 * 10 + 3"
      ],
      "execution_count": null,
      "outputs": [
        {
          "data": {
            "text/plain": [
              "105"
            ]
          },
          "execution_count": 9,
          "metadata": {},
          "output_type": "execute_result"
        }
      ]
    },
    {
      "cell_type": "code",
      "metadata": {
        "id": "cy6WCVo5GqV1",
        "outputId": "a9e8d2d9-c445-4d87-b188-0bf9df2fd1ac"
      },
      "source": [
        "# Can use parentheses to specify orders\n",
        "(2+10) * (10+3)"
      ],
      "execution_count": null,
      "outputs": [
        {
          "data": {
            "text/plain": [
              "156"
            ]
          },
          "execution_count": 10,
          "metadata": {},
          "output_type": "execute_result"
        }
      ]
    },
    {
      "cell_type": "markdown",
      "metadata": {
        "id": "IP_roBfPGqV1"
      },
      "source": [
        "## Variable Assignments"
      ]
    },
    {
      "cell_type": "code",
      "metadata": {
        "collapsed": true,
        "id": "We2nzQHgGqV1"
      },
      "source": [
        "# Let's create an object called \"a\" and assign it the number 5\n",
        "a = 5"
      ],
      "execution_count": null,
      "outputs": []
    },
    {
      "cell_type": "code",
      "metadata": {
        "id": "oDxpn0GxGqV2",
        "outputId": "d588df8d-1da0-4f42-d0f7-9d28ca1b315d"
      },
      "source": [
        "# Adding the objects\n",
        "a+a"
      ],
      "execution_count": null,
      "outputs": [
        {
          "data": {
            "text/plain": [
              "10"
            ]
          },
          "execution_count": 12,
          "metadata": {},
          "output_type": "execute_result"
        }
      ]
    },
    {
      "cell_type": "code",
      "metadata": {
        "collapsed": true,
        "id": "ZNKPo88wGqV2"
      },
      "source": [
        "# Reassignment\n",
        "a = 10"
      ],
      "execution_count": null,
      "outputs": []
    },
    {
      "cell_type": "code",
      "metadata": {
        "id": "mn-CMHShGqV3",
        "outputId": "c1500129-59d4-42cf-bd27-cf0eb0cc2bcb"
      },
      "source": [
        "# Check\n",
        "a"
      ],
      "execution_count": null,
      "outputs": [
        {
          "data": {
            "text/plain": [
              "10"
            ]
          },
          "execution_count": 14,
          "metadata": {},
          "output_type": "execute_result"
        }
      ]
    },
    {
      "cell_type": "code",
      "metadata": {
        "id": "OMl8hDWVGqV3",
        "outputId": "58dcfc29-b30e-4e3a-b86a-dc5fd52abab6"
      },
      "source": [
        "# Check\n",
        "a"
      ],
      "execution_count": null,
      "outputs": [
        {
          "data": {
            "text/plain": [
              "10"
            ]
          },
          "execution_count": 15,
          "metadata": {},
          "output_type": "execute_result"
        }
      ]
    },
    {
      "cell_type": "code",
      "metadata": {
        "collapsed": true,
        "id": "tpTJ6v1KGqV3"
      },
      "source": [
        "# Use A to redefine A\n",
        "a = a + a"
      ],
      "execution_count": null,
      "outputs": []
    },
    {
      "cell_type": "code",
      "metadata": {
        "id": "zus92xMwGqV4",
        "outputId": "44b916cd-c2b8-4373-e864-16969363ad12"
      },
      "source": [
        "# Check \n",
        "a"
      ],
      "execution_count": null,
      "outputs": [
        {
          "data": {
            "text/plain": [
              "20"
            ]
          },
          "execution_count": 17,
          "metadata": {},
          "output_type": "execute_result"
        }
      ]
    },
    {
      "cell_type": "code",
      "metadata": {
        "collapsed": true,
        "id": "wcyjMpjYGqV4"
      },
      "source": [
        "# Use object names to keep better track of what's going on in your code!\n",
        "my_income = 100\n",
        "\n",
        "tax_rate = 0.1\n",
        "\n",
        "my_taxes = my_income*tax_rate"
      ],
      "execution_count": null,
      "outputs": []
    },
    {
      "cell_type": "code",
      "metadata": {
        "id": "eNYUsUAYGqV4",
        "outputId": "f834ef9d-feb6-43c3-8d15-1de65f2c114f"
      },
      "source": [
        "# Show my taxes!\n",
        "my_taxes"
      ],
      "execution_count": null,
      "outputs": [
        {
          "data": {
            "text/plain": [
              "10.0"
            ]
          },
          "execution_count": 19,
          "metadata": {},
          "output_type": "execute_result"
        }
      ]
    }
  ]
}