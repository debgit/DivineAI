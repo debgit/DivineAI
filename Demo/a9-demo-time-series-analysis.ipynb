{
 "cells": [
  {
   "cell_type": "code",
   "execution_count": 1,
   "metadata": {
    "_uuid": "dc0785ea0c4e1a730b3bb893d15244f9ea7f0380"
   },
   "outputs": [
    {
     "ename": "NameError",
     "evalue": "name 'init_notebook_mode' is not defined",
     "output_type": "error",
     "traceback": [
      "\u001b[1;31m---------------------------------------------------------------------------\u001b[0m",
      "\u001b[1;31mNameError\u001b[0m                                 Traceback (most recent call last)",
      "\u001b[1;32m<ipython-input-1-0bfaa62f7b54>\u001b[0m in \u001b[0;36m<module>\u001b[1;34m\u001b[0m\n\u001b[0;32m      1\u001b[0m \u001b[1;31m#print(__version__) # need 1.9.0 or greater\u001b[0m\u001b[1;33m\u001b[0m\u001b[1;33m\u001b[0m\u001b[1;33m\u001b[0m\u001b[0m\n\u001b[1;32m----> 2\u001b[1;33m \u001b[0minit_notebook_mode\u001b[0m\u001b[1;33m(\u001b[0m\u001b[0mconnected\u001b[0m \u001b[1;33m=\u001b[0m \u001b[1;32mTrue\u001b[0m\u001b[1;33m)\u001b[0m\u001b[1;33m\u001b[0m\u001b[1;33m\u001b[0m\u001b[0m\n\u001b[0m\u001b[0;32m      3\u001b[0m \u001b[1;33m\u001b[0m\u001b[0m\n\u001b[0;32m      4\u001b[0m \u001b[1;33m\u001b[0m\u001b[0m\n\u001b[0;32m      5\u001b[0m \u001b[1;32mdef\u001b[0m \u001b[0mplotly_df\u001b[0m\u001b[1;33m(\u001b[0m\u001b[0mdf\u001b[0m\u001b[1;33m,\u001b[0m \u001b[0mtitle\u001b[0m \u001b[1;33m=\u001b[0m \u001b[1;34m''\u001b[0m\u001b[1;33m)\u001b[0m\u001b[1;33m:\u001b[0m\u001b[1;33m\u001b[0m\u001b[1;33m\u001b[0m\u001b[0m\n",
      "\u001b[1;31mNameError\u001b[0m: name 'init_notebook_mode' is not defined"
     ]
    }
   ],
   "source": [
    "#print(__version__) # need 1.9.0 or greater\n",
    "#init_notebook_mode(connected = True)\n",
    "\n",
    "\n",
    "def plotly_df(df, title = ''):\n",
    "    data = []\n",
    "    \n",
    "    for column in df.columns:\n",
    "        trace = go.Scatter(\n",
    "            x = df.index,\n",
    "            y = df[column],\n",
    "            mode = 'lines',\n",
    "            name = column\n",
    "        )\n",
    "        data.append(trace)\n",
    "    \n",
    "    layout = dict(title = title)\n",
    "    fig = dict(data = data, layout = layout)\n",
    "    iplot(fig, show_link=False)"
   ]
  },
  {
   "cell_type": "markdown",
   "metadata": {
    "_uuid": "62780baf0a97bf68357bb77fed688a242f177071",
    "collapsed": true
   },
   "source": [
    "## Data preparation"
   ]
  },
  {
   "cell_type": "code",
   "execution_count": null,
   "metadata": {
    "_uuid": "feaf24c1990e0c978ba1c5424dfcbe5b26a6f84d"
   },
   "outputs": [],
   "source": [
    "df = pd.read_csv('../input/wiki_machine_learning.csv', sep = ' ')\n",
    "df = df[df['count'] != 0]\n",
    "df.head()"
   ]
  },
  {
   "cell_type": "code",
   "execution_count": null,
   "metadata": {
    "_uuid": "5dd80a3e85bafe3a78ea04448f9936cdf5f23336"
   },
   "outputs": [],
   "source": [
    "df.shape"
   ]
  },
  {
   "cell_type": "markdown",
   "metadata": {
    "_uuid": "cb1438736476dbde10a1200b8f1572570ab96b35"
   },
   "source": [
    "## Predicting with FB Prophet\n",
    "We will train at first 5 months and predict the number of trips for June."
   ]
  },
  {
   "cell_type": "code",
   "execution_count": null,
   "metadata": {
    "_uuid": "394407becbadeeb54d5c5147d8d397a3267b525f"
   },
   "outputs": [],
   "source": [
    "df.date = pd.to_datetime(df.date)"
   ]
  },
  {
   "cell_type": "code",
   "execution_count": null,
   "metadata": {
    "_uuid": "83c67f1d3530013b519353c50182b2439015caa1"
   },
   "outputs": [],
   "source": [
    "plotly_df(df.set_index('date')[['count']])"
   ]
  },
  {
   "cell_type": "code",
   "execution_count": null,
   "metadata": {
    "_uuid": "03b7eca7ae8548a6e25698f04406436e0b349882"
   },
   "outputs": [],
   "source": [
    "from fbprophet import Prophet"
   ]
  },
  {
   "cell_type": "code",
   "execution_count": null,
   "metadata": {
    "_uuid": "b9851bbf2f5aeb0e8c136a35e5014858c2c8375d"
   },
   "outputs": [],
   "source": [
    "predictions = 30\n",
    "\n",
    "df = df[['date', 'count']]\n",
    "df.columns = ['ds', 'y']\n",
    "df.tail()"
   ]
  },
  {
   "cell_type": "markdown",
   "metadata": {
    "_uuid": "fe165646d65b2054540dcb9cb8b0c6306c61141e"
   },
   "source": [
    "**<font color='red'>Question 1:</font>** What is the prediction of the number of views of the wiki page on January 20? Round to the nearest integer.\n",
    "\n",
    "- 4947\n",
    "- 3426\n",
    "- 5229\n",
    "- 2744"
   ]
  },
  {
   "cell_type": "code",
   "execution_count": null,
   "metadata": {
    "_uuid": "176658619ee117354f3997c5422935f337695a5c"
   },
   "outputs": [],
   "source": [
    "# You code here"
   ]
  },
  {
   "cell_type": "markdown",
   "metadata": {
    "_uuid": "21ce31447a1560192d9bc4051434c405c70ff69c"
   },
   "source": [
    "Estimate the quality of the prediction with the last 30 points."
   ]
  },
  {
   "cell_type": "code",
   "execution_count": null,
   "metadata": {
    "_uuid": "c7524d84d3ba4e75c7176580211c0b4cc6835f4b"
   },
   "outputs": [],
   "source": [
    "# You code here"
   ]
  },
  {
   "cell_type": "markdown",
   "metadata": {
    "_uuid": "45e620d64db4d0cba1872897aaab733cfcb408b3"
   },
   "source": [
    "**<font color='red'>Question 2:</font> What is MAPE equal to?**\n",
    "\n",
    "- 34.5\n",
    "- 42.42\n",
    "- 5.39\n",
    "- 65.91\n",
    "\n",
    "**<font color='red'>Question 3:</font> What is MAE equal to?**\n",
    "\n",
    "- 355\n",
    "- 4007\n",
    "- 600\n",
    "- 903"
   ]
  },
  {
   "cell_type": "markdown",
   "metadata": {
    "_uuid": "54c928a78ad77b7d77a04801f97d8d7fa1516de6"
   },
   "source": [
    "## Predicting with ARIMA"
   ]
  },
  {
   "cell_type": "code",
   "execution_count": null,
   "metadata": {
    "_uuid": "b3ba80e5ad84d8c212f240daf8452be694726e4c"
   },
   "outputs": [],
   "source": [
    "%matplotlib inline\n",
    "import matplotlib.pyplot as plt\n",
    "from scipy import stats\n",
    "import statsmodels.api as sm\n",
    "plt.rcParams['figure.figsize'] = (15, 10)"
   ]
  },
  {
   "cell_type": "markdown",
   "metadata": {
    "_uuid": "6db4da8108a96b9cdc57efbd51f2f3e793a75411"
   },
   "source": [
    "**<font color='red'>Question 4:</font> Let's verify the stationarity of the series using the Dickey-Fuller test. Is the series stationary? What is the p-value?**\n",
    "\n",
    "- Series is stationary, p_value = 0.107\n",
    "- Series is not stationary, p_value = 0.107\n",
    "- Series is stationary, p_value = 0.001\n",
    "- Series is not stationary, p_value = 0.001"
   ]
  },
  {
   "cell_type": "code",
   "execution_count": null,
   "metadata": {
    "_uuid": "4d6037becf31bdfc1f626c10d9a91f29ce54d793"
   },
   "outputs": [],
   "source": [
    "# You code here"
   ]
  },
  {
   "cell_type": "markdown",
   "metadata": {
    "_uuid": "a3aaa07c0977b471fd8cf3813b25a6b238038928"
   },
   "source": [
    "**Next, we turn to the construction of the SARIMAX model (`sm.tsa.statespace.SARIMAX`).<br> <font color='red'>Question 5:</font> What parameters are the best for the model according to the `AIC` criterion?**\n",
    "\n",
    "- D = 1, d = 0, Q = 0, q = 2, P = 3, p = 1\n",
    "- D = 2, d = 1, Q = 1, q = 2, P = 3, p = 1\n",
    "- D = 1, d = 1, Q = 1, q = 2, P = 3, p = 1\n",
    "- D = 0, d = 0, Q = 0, q = 2, P = 3, p = 1"
   ]
  },
  {
   "cell_type": "code",
   "execution_count": null,
   "metadata": {
    "_uuid": "b4b5652c17a2487ee5c0f63ea7f7ac1e97b065b9"
   },
   "outputs": [],
   "source": [
    "# You code here"
   ]
  }
 ],
 "metadata": {
  "kernelspec": {
   "display_name": "Python 3",
   "language": "python",
   "name": "python3"
  },
  "language_info": {
   "codemirror_mode": {
    "name": "ipython",
    "version": 3
   },
   "file_extension": ".py",
   "mimetype": "text/x-python",
   "name": "python",
   "nbconvert_exporter": "python",
   "pygments_lexer": "ipython3",
   "version": "3.7.10"
  }
 },
 "nbformat": 4,
 "nbformat_minor": 1
}
